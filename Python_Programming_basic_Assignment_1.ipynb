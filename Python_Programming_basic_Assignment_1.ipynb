{
 "cells": [
  {
   "cell_type": "code",
   "execution_count": null,
   "id": "1f8506ba",
   "metadata": {},
   "outputs": [],
   "source": [
    "Write a Python program to print \"Hello Python\"?"
   ]
  },
  {
   "cell_type": "code",
   "execution_count": null,
   "id": "7f79130d",
   "metadata": {
    "scrolled": true
   },
   "outputs": [],
   "source": [
    "print(\"Hello Python\")"
   ]
  },
  {
   "cell_type": "code",
   "execution_count": null,
   "id": "dba60706",
   "metadata": {},
   "outputs": [],
   "source": [
    "Write a Python program to do arithmetical operations addition and division.?"
   ]
  },
  {
   "cell_type": "code",
   "execution_count": null,
   "id": "480f65ef",
   "metadata": {},
   "outputs": [],
   "source": [
    "a,b = 5,10\n",
    "print(a+b)\n",
    "print(b/a)"
   ]
  },
  {
   "cell_type": "code",
   "execution_count": null,
   "id": "c0340224",
   "metadata": {},
   "outputs": [],
   "source": [
    "Write a Python program to find the area of a triangle?\n"
   ]
  },
  {
   "cell_type": "code",
   "execution_count": null,
   "id": "f0ab4ab0",
   "metadata": {},
   "outputs": [],
   "source": [
    "#Program with hardcoded values\n",
    "base=15\n",
    "height=20\n",
    "area=(0.5*base*height)\n",
    "print(area)\n",
    "\n",
    "#Program with userinput\n",
    "base=int(input())\n",
    "height=int(input())\n",
    "area=(0.5*base*height)\n",
    "print(area)"
   ]
  },
  {
   "cell_type": "code",
   "execution_count": null,
   "id": "72cb6068",
   "metadata": {},
   "outputs": [],
   "source": [
    "Write a Python program to swap two variables?\n"
   ]
  },
  {
   "cell_type": "code",
   "execution_count": null,
   "id": "6f7f55f6",
   "metadata": {},
   "outputs": [],
   "source": [
    "a=5\n",
    "b=10\n",
    "c=a\n",
    "a=b\n",
    "b=c\n",
    "print(a)\n",
    "print(b)"
   ]
  },
  {
   "cell_type": "code",
   "execution_count": null,
   "id": "824efba4",
   "metadata": {},
   "outputs": [],
   "source": [
    "Write a Python program to generate a random number?"
   ]
  },
  {
   "cell_type": "code",
   "execution_count": null,
   "id": "386f6b84",
   "metadata": {},
   "outputs": [],
   "source": [
    "#making use of the random module in pyton to generate random numbers from the range 1 to 100\n",
    "import random\n",
    "print(random.randint(1,100))"
   ]
  }
 ],
 "metadata": {
  "kernelspec": {
   "display_name": "Python 3 (ipykernel)",
   "language": "python",
   "name": "python3"
  },
  "language_info": {
   "codemirror_mode": {
    "name": "ipython",
    "version": 3
   },
   "file_extension": ".py",
   "mimetype": "text/x-python",
   "name": "python",
   "nbconvert_exporter": "python",
   "pygments_lexer": "ipython3",
   "version": "3.8.12"
  }
 },
 "nbformat": 4,
 "nbformat_minor": 5
}
