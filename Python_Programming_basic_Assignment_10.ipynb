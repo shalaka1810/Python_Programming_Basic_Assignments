{
 "cells": [
  {
   "cell_type": "code",
   "execution_count": null,
   "id": "2b5d1029",
   "metadata": {},
   "outputs": [],
   "source": [
    "Write a Python program to find sum of elements in list?\n"
   ]
  },
  {
   "cell_type": "code",
   "execution_count": 9,
   "id": "8c5bb7a9",
   "metadata": {},
   "outputs": [
    {
     "name": "stdout",
     "output_type": "stream",
     "text": [
      "1 2 3 4 \"gnfjldm\" 5 648 9531 4\n",
      "The input list is  ['1', '2', '3', '4', '\"gnfjldm\"', '5', '648', '9531', '4']\n",
      "Sum of elements is  10198.0\n"
     ]
    }
   ],
   "source": [
    "def sum_of_list(mylist):\n",
    "    \"\"\"This function returns the sum of elements in a list\"\"\"\n",
    "    sum = 0\n",
    "    for j in mylist:\n",
    "        try:\n",
    "            sum+=float(j)\n",
    "        except:\n",
    "            continue\n",
    "    return sum\n",
    "try:\n",
    "    my_list=input().split()\n",
    "    print(\"The input list is \",my_list)\n",
    "    print(\"Sum of elements is \", sum_of_list(my_list))\n",
    "except :\n",
    "    print(\"There seems to be some problem with the entered value. Please try again.\")\n",
    "    \n"
   ]
  },
  {
   "cell_type": "code",
   "execution_count": 8,
   "id": "15206299",
   "metadata": {},
   "outputs": [],
   "source": [
    "Write a Python program to  Multiply all numbers in the list?\n"
   ]
  },
  {
   "cell_type": "code",
   "execution_count": 2,
   "id": "df42e9b3",
   "metadata": {},
   "outputs": [
    {
     "name": "stdout",
     "output_type": "stream",
     "text": [
      "1 5 6 4 \"mcdkls\" \"mcvdkls\"\n",
      "The input list is  ['1', '5', '6', '4', '\"mcdkls\"', '\"mcvdkls\"']\n",
      "Sum of elements is  120.0\n"
     ]
    }
   ],
   "source": [
    "def prod_of_list(mylist):\n",
    "    \"\"\"This function returns the product of elements in a list\"\"\"\n",
    "    prod = 1\n",
    "    for j in mylist:\n",
    "        try:\n",
    "            prod*=float(j)\n",
    "        except:\n",
    "            continue\n",
    "    return prod\n",
    "try:\n",
    "    my_list=input().split()\n",
    "    print(\"The input list is \",my_list)\n",
    "    print(\"Product of elements is \", prod_of_list(my_list))\n",
    "except :\n",
    "    print(\"There seems to be some problem with the entered value. Please try again.\")\n",
    "    \n"
   ]
  },
  {
   "cell_type": "code",
   "execution_count": null,
   "id": "dfdd1428",
   "metadata": {},
   "outputs": [],
   "source": [
    "Write a Python program to find smallest number in a list?\n"
   ]
  },
  {
   "cell_type": "code",
   "execution_count": 12,
   "id": "3140bb2f",
   "metadata": {},
   "outputs": [
    {
     "name": "stdout",
     "output_type": "stream",
     "text": [
      "\"fmkdl\" \"mvlf;da\"\n",
      "The input list is  ['\"fmkdl\"', '\"mvlf;da\"']\n",
      "There seems to be some problem with the entered value. Please try again.\n"
     ]
    }
   ],
   "source": [
    "def smallest_of_list(mylist):\n",
    "    \"\"\"This function returns the smallest of elements in a list\"\"\"\n",
    "    for i in mylist:\n",
    "        try:\n",
    "            smallest = float(i)\n",
    "            break\n",
    "        except:\n",
    "            continue\n",
    "    for j in mylist:\n",
    "        try:\n",
    "            if float(j)<=smallest:\n",
    "                smallest = float(j)\n",
    "        except:\n",
    "            continue\n",
    "    return smallest\n",
    "try:\n",
    "    my_list=input().split()\n",
    "    print(\"The input list is \",my_list)\n",
    "    print(\"Smallest of elements is \", smallest_of_list(my_list))\n",
    "except :\n",
    "    print(\"There seems to be some problem with the entered value. Please try again.\")"
   ]
  },
  {
   "cell_type": "code",
   "execution_count": null,
   "id": "2b6f407e",
   "metadata": {},
   "outputs": [],
   "source": [
    "Write a Python program to find largest number in a list?\n"
   ]
  },
  {
   "cell_type": "code",
   "execution_count": 9,
   "id": "f6be1ab9",
   "metadata": {},
   "outputs": [
    {
     "name": "stdout",
     "output_type": "stream",
     "text": [
      "1 5 6 4 \"mcdkls\" \"mcvdkls\"\n",
      "The input list is  ['1', '5', '6', '4', '\"mcdkls\"', '\"mcvdkls\"']\n",
      "Largest of elements is  6.0\n"
     ]
    }
   ],
   "source": [
    "def largest_of_list(mylist):\n",
    "    \"\"\"This function returns the largest of elements in a list\"\"\"\n",
    "    for i in mylist:\n",
    "        try:\n",
    "            largest = float(i)\n",
    "            break\n",
    "        except:\n",
    "            continue\n",
    "    for j in mylist:\n",
    "        try:\n",
    "            if float(j)>=largest:\n",
    "                largest = float(j)\n",
    "        except:\n",
    "            continue\n",
    "    return largest\n",
    "try:\n",
    "    my_list=input().split()\n",
    "    print(\"The input list is \",my_list)\n",
    "    print(\"Largest of elements is \", largest_of_list(my_list))\n",
    "except :\n",
    "    print(\"There seems to be some problem with the entered value. Please try again.\")"
   ]
  },
  {
   "cell_type": "code",
   "execution_count": null,
   "id": "d4db3d8a",
   "metadata": {},
   "outputs": [],
   "source": [
    "Write a Python program to find second largest number in a list?\n"
   ]
  },
  {
   "cell_type": "code",
   "execution_count": 6,
   "id": "632e2412",
   "metadata": {},
   "outputs": [
    {
     "name": "stdout",
     "output_type": "stream",
     "text": [
      "1 5 6 4 \"mcdkls\" \"mcvdkls\"\n",
      "The input list is  ['1', '5', '6', '4', '\"mcdkls\"', '\"mcvdkls\"']\n",
      "['\"mcdkls\"', '\"mcvdkls\"', '1', '4', '5', '6']\n",
      "Largest of elements is  5\n"
     ]
    }
   ],
   "source": [
    "def second_largest_of_list(mylist):\n",
    "    \"\"\"This function returns the 2nd largest of elements in a list\"\"\"\n",
    "    mylist = sorted(mylist)\n",
    "    return mylist[len(mylist)-2]\n",
    "try:\n",
    "    my_list=input().split()\n",
    "    print(\"The input list is \",my_list)\n",
    "    print(\"Second Largest of elements is \", second_largest_of_list(my_list))\n",
    "except :\n",
    "    print(\"There seems to be some problem with the entered value. Please try again.\")"
   ]
  },
  {
   "cell_type": "code",
   "execution_count": null,
   "id": "4eab1ba0",
   "metadata": {},
   "outputs": [],
   "source": [
    "Write a Python program to find N largest elements from a list?\n"
   ]
  },
  {
   "cell_type": "code",
   "execution_count": 9,
   "id": "6ca0078c",
   "metadata": {},
   "outputs": [
    {
     "name": "stdout",
     "output_type": "stream",
     "text": [
      "4\n",
      "1 5 6 4 \"mcdkls\" \"mcvdkls\"\n",
      "The input list is  ['1', '5', '6', '4', '\"mcdkls\"', '\"mcvdkls\"']\n",
      "Nth Largest elements is  1\n"
     ]
    }
   ],
   "source": [
    "def Nth_largest_of_list(mylist,n):\n",
    "    \"\"\"This function returns the 2nd largest of elements in a list\"\"\"\n",
    "    mylist = sorted(mylist)\n",
    "    return mylist[len(mylist)-n]\n",
    "try:\n",
    "    n = int(input())\n",
    "    my_list=input().split()\n",
    "    print(\"The input list is \",my_list)\n",
    "    print(\"Nth Largest elements is \", Nth_largest_of_list(my_list,n))\n",
    "except Exception as e :\n",
    "    print(e)"
   ]
  },
  {
   "cell_type": "code",
   "execution_count": null,
   "id": "3659422a",
   "metadata": {},
   "outputs": [],
   "source": [
    "Write a Python program to print even numbers in a list?\n"
   ]
  },
  {
   "cell_type": "code",
   "execution_count": 16,
   "id": "88d1d114",
   "metadata": {},
   "outputs": [
    {
     "name": "stdout",
     "output_type": "stream",
     "text": [
      "\"nfdijsk\" \"ndskjla\" 5 51 3 479\n",
      "The input list is  ['\"nfdijsk\"', '\"ndskjla\"', '5', '51', '3', '479']\n",
      "Even numbers are \n"
     ]
    }
   ],
   "source": [
    "def even_of_list(mylist):\n",
    "    \"\"\"This function returns even numbers in a list\"\"\"\n",
    "    for i in mylist:\n",
    "        try:\n",
    "            if int(i)%2==0:\n",
    "                yield i\n",
    "        except:\n",
    "            continue\n",
    "try:\n",
    "    my_list=input().split()\n",
    "    print(\"The input list is \",my_list)\n",
    "    for j in even_of_list(my_list):\n",
    "        print(j)\n",
    "except Exception as e :\n",
    "    print(e)"
   ]
  },
  {
   "cell_type": "code",
   "execution_count": null,
   "id": "4aff2e11",
   "metadata": {},
   "outputs": [],
   "source": [
    "Write a Python program to print odd numbers in a List?\n"
   ]
  },
  {
   "cell_type": "code",
   "execution_count": 17,
   "id": "b2a3fb57",
   "metadata": {},
   "outputs": [
    {
     "name": "stdout",
     "output_type": "stream",
     "text": [
      "\"nfdijsk\" \"ndskjla\" 5 51 3 479\n",
      "The input list is  ['\"nfdijsk\"', '\"ndskjla\"', '5', '51', '3', '479']\n",
      "Odd numbers are \n",
      "5\n",
      "51\n",
      "3\n",
      "479\n"
     ]
    }
   ],
   "source": [
    "def odd_of_list(mylist):\n",
    "    \"\"\"This function returns odd in a list\"\"\"\n",
    "    for i in mylist:\n",
    "        try:\n",
    "            if int(i)%2!=0:\n",
    "                yield i\n",
    "        except:\n",
    "            continue\n",
    "try:\n",
    "    my_list=input().split()\n",
    "    print(\"The input list is \",my_list)\n",
    "    for j in odd_of_list(my_list):\n",
    "        print(j)\n",
    "except Exception as e :\n",
    "    print(e)"
   ]
  },
  {
   "cell_type": "code",
   "execution_count": null,
   "id": "33a26a5e",
   "metadata": {},
   "outputs": [],
   "source": [
    "Write a Python program to Remove empty List from List?\n"
   ]
  },
  {
   "cell_type": "code",
   "execution_count": 50,
   "id": "e40cc2a4",
   "metadata": {},
   "outputs": [
    {
     "name": "stdout",
     "output_type": "stream",
     "text": [
      "Enter number of elements\n",
      "5\n",
      "1\n",
      "2\n",
      "5\n",
      "[]\n",
      "[1,2,3,48513,845,]\n",
      "The input list is  [1, 2, 5, [], [1, 2, 3, 48513, 845]]\n",
      "[1, 2, 5, [1, 2, 3, 48513, 845]]\n"
     ]
    }
   ],
   "source": [
    "def remove_empty(mylist):\n",
    "    \"\"\"This function returns the 2nd largest of elements in a list\"\"\"\n",
    "    newlist=[]\n",
    "    for i in mylist:\n",
    "        if type(i)==list and len(i)==0:\n",
    "            continue\n",
    "        else:\n",
    "            newlist.append(i)\n",
    "    return newlist\n",
    "                \n",
    "try:\n",
    "    my_list = []\n",
    "    print(\"Enter number of elements\")\n",
    "    n = int(input())\n",
    "    for i in range(n):\n",
    "        v = eval(input())\n",
    "        my_list.append(v)\n",
    "    print(\"The input list is \",my_list)\n",
    "    print(remove_empty(my_list))\n",
    "except Exception as e :\n",
    "    print(e)"
   ]
  },
  {
   "cell_type": "code",
   "execution_count": null,
   "id": "64125412",
   "metadata": {},
   "outputs": [],
   "source": [
    "Write a Python program to Cloning or Copying a list?\n"
   ]
  },
  {
   "cell_type": "code",
   "execution_count": 34,
   "id": "e57fd266",
   "metadata": {},
   "outputs": [
    {
     "name": "stdout",
     "output_type": "stream",
     "text": [
      "1 2 5 48 63 \"vmkd\" \"kdsoae\" [] [\"cmdkls\" 546]\n",
      "The input list is  ['1', '2', '5', '48', '63', '\"vmkd\"', '\"kdsoae\"', '[]', '[\"cmdkls\"', '546]']\n",
      "['1', '2', '5', '48', '63', '\"vmkd\"', '\"kdsoae\"', '[]', '[\"cmdkls\"', '546]']\n"
     ]
    }
   ],
   "source": [
    "def copy_list(mylist):\n",
    "    \"\"\"This function returns the copy a list\"\"\"\n",
    "    listcopy=[]\n",
    "    if len(mylist)>0:\n",
    "        for i in mylist:\n",
    "            listcopy.append(i)\n",
    "    return listcopy  \n",
    "                \n",
    "try:\n",
    "    my_list=input().split()\n",
    "    print(\"The input list is \",my_list)\n",
    "    print(copy_list(my_list))\n",
    "except Exception as e :\n",
    "    print(e)"
   ]
  },
  {
   "cell_type": "code",
   "execution_count": null,
   "id": "50591656",
   "metadata": {},
   "outputs": [],
   "source": [
    "Write a Python program to Count occurrences of an element in a list?\n"
   ]
  },
  {
   "cell_type": "code",
   "execution_count": 41,
   "id": "39ef43ed",
   "metadata": {},
   "outputs": [
    {
     "name": "stdout",
     "output_type": "stream",
     "text": [
      "\"nfdijsk\" \"ndskjla\" 5 51 3 479 479\n",
      "The input list is  ['\"nfdijsk\"', '\"ndskjla\"', '5', '51', '3', '479', '479']\n",
      "479\n",
      "2\n"
     ]
    }
   ],
   "source": [
    "def count_list(mylist,element):\n",
    "    \"\"\"This function returns the count of an element in a list\"\"\"\n",
    "    count=0\n",
    "    for i in mylist:\n",
    "        if i==element:\n",
    "            count+=1\n",
    "    return count\n",
    "            \n",
    "                \n",
    "try:\n",
    "    my_list=input().split()\n",
    "    print(\"The input list is \",my_list)\n",
    "    element = input()\n",
    "    print(count_list(my_list,element))\n",
    "except Exception as e :\n",
    "    print(e)"
   ]
  },
  {
   "cell_type": "code",
   "execution_count": 47,
   "id": "eb57a8ab",
   "metadata": {},
   "outputs": [
    {
     "name": "stdout",
     "output_type": "stream",
     "text": [
      "[4, 8, [1, 2, 3, 6, 5, 4, 8, 4], 56]\n"
     ]
    }
   ],
   "source": [
    "s = [4, 8, [], [1, 2, 3, 6, 5, 4, 8, 4], 56]\n",
    "l=[]\n",
    "for i in s:\n",
    "    if type(i)==list and len(i)==0:\n",
    "        continue\n",
    "    else:\n",
    "        l.append(i)\n",
    "print(l)"
   ]
  },
  {
   "cell_type": "code",
   "execution_count": null,
   "id": "d2dd2dc3",
   "metadata": {},
   "outputs": [],
   "source": []
  }
 ],
 "metadata": {
  "kernelspec": {
   "display_name": "Python 3 (ipykernel)",
   "language": "python",
   "name": "python3"
  },
  "language_info": {
   "codemirror_mode": {
    "name": "ipython",
    "version": 3
   },
   "file_extension": ".py",
   "mimetype": "text/x-python",
   "name": "python",
   "nbconvert_exporter": "python",
   "pygments_lexer": "ipython3",
   "version": "3.8.12"
  }
 },
 "nbformat": 4,
 "nbformat_minor": 5
}
