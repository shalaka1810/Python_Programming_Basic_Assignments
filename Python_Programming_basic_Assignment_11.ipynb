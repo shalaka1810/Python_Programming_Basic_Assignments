{
 "cells": [
  {
   "cell_type": "code",
   "execution_count": null,
   "id": "4549993e",
   "metadata": {},
   "outputs": [],
   "source": [
    "Write a Python program to find words which are greater than given length k?\n"
   ]
  },
  {
   "cell_type": "code",
   "execution_count": 2,
   "id": "fd86ca7a",
   "metadata": {},
   "outputs": [
    {
     "name": "stdout",
     "output_type": "stream",
     "text": [
      "humpty dumpty sat on a wall and they had a veryyy big fall\n",
      "5\n",
      "words greater than given length \n",
      "humpty\n",
      "dumpty\n",
      "veryyy\n"
     ]
    }
   ],
   "source": [
    "def len_words(s,k):\n",
    "    \"\"\"This function returns the list of words greater than the given length\"\"\"\n",
    "    for i in s:\n",
    "        if len(i)>k:\n",
    "            yield i\n",
    "try:\n",
    "    inputstring = input().split()\n",
    "    k = int(input())\n",
    "    print(\"words greater than given length \")\n",
    "    for j in len_words(inputstring,k):\n",
    "        print(j)\n",
    "except Exception as e:\n",
    "    print(e)\n",
    "    \n"
   ]
  },
  {
   "cell_type": "code",
   "execution_count": null,
   "id": "83441fe3",
   "metadata": {},
   "outputs": [],
   "source": [
    "Write a Python program for removing i-th character from a string?\n"
   ]
  },
  {
   "cell_type": "code",
   "execution_count": 20,
   "id": "5c6b1b01",
   "metadata": {},
   "outputs": [
    {
     "name": "stdout",
     "output_type": "stream",
     "text": [
      "humpty dumpty sat on a wall and they had a veryyy big fall\n",
      "5\n",
      "h u m p y   d u m p t y   s a t   o n   a   w a l l   a n d   t h e y   h a d   a   v e r y y y   b i g   f a l l\n"
     ]
    }
   ],
   "source": [
    "def remove_character(s,i):\n",
    "    \"\"\"This function returns the string with the ith character removed\"\"\"\n",
    "    character_list =[]\n",
    "    for j in range(len(s)):\n",
    "        if j==(i-1):        #considering users perspective.. indexing stating from 1\n",
    "            continue\n",
    "        else:\n",
    "            character_list.append(s[j])\n",
    "    return \" \".join(character_list)\n",
    "try:\n",
    "    inputstring = input()\n",
    "    k = int(input())\n",
    "    print(remove_character(inputstring,k))\n",
    "except Exception as e:\n",
    "    print(e)"
   ]
  },
  {
   "cell_type": "code",
   "execution_count": null,
   "id": "26dd7c85",
   "metadata": {},
   "outputs": [],
   "source": [
    "Write a Python program to split and join a string?\n"
   ]
  },
  {
   "cell_type": "code",
   "execution_count": 22,
   "id": "bf166957",
   "metadata": {},
   "outputs": [
    {
     "name": "stdout",
     "output_type": "stream",
     "text": [
      "humpty dumpty sat on a wall and they had a veryyy big fall 5\n",
      "humptydumptysatonawallandtheyhadaveryyybigfall5\n"
     ]
    }
   ],
   "source": [
    "def join_string(s):\n",
    "    \"\"\"This function splits the string and returns the joined string\"\"\"\n",
    "    character_list =s.split()\n",
    "    return \"\".join(character_list)\n",
    "try:\n",
    "    inputstring = input()\n",
    "    print(join_string(inputstring))\n",
    "except Exception as e:\n",
    "    print(e)"
   ]
  },
  {
   "cell_type": "code",
   "execution_count": null,
   "id": "714ca21d",
   "metadata": {},
   "outputs": [],
   "source": [
    "Write a Python to check if a given string is binary string or not?\n"
   ]
  },
  {
   "cell_type": "code",
   "execution_count": 23,
   "id": "0c631622",
   "metadata": {},
   "outputs": [
    {
     "name": "stdout",
     "output_type": "stream",
     "text": [
      "1110110101\n",
      "True\n"
     ]
    }
   ],
   "source": [
    "def binary_string(s):\n",
    "    \"\"\"This function returns True if the string is a binary string else returns false\"\"\"\n",
    "    for i in s:\n",
    "        if i=='1' or i==\"0\":\n",
    "            continue\n",
    "        else:\n",
    "            return False\n",
    "    return True\n",
    "            \n",
    "try:\n",
    "    inputstring = input()\n",
    "    print(binary_string(inputstring))\n",
    "except Exception as e:\n",
    "    print(e)"
   ]
  },
  {
   "cell_type": "code",
   "execution_count": null,
   "id": "c13765c6",
   "metadata": {},
   "outputs": [],
   "source": [
    "Write a Python program to find uncommon words from two Strings?\n"
   ]
  },
  {
   "cell_type": "code",
   "execution_count": 30,
   "id": "69b4d0a1",
   "metadata": {},
   "outputs": [
    {
     "name": "stdout",
     "output_type": "stream",
     "text": [
      "humpty dumpty sat in a hall and they had a very big fall\n",
      "humpty dumpty sat on a wall and they had a veryyy big fall\n",
      "in\n",
      "hall\n",
      "very\n"
     ]
    }
   ],
   "source": [
    "def uncommon(s1,s2):\n",
    "    \"\"\"This function returns uncommon words between two strings\"\"\"\n",
    "    s11 = s1.split()\n",
    "    s22 = s2.split()\n",
    "    if len(s11)>len(s22):\n",
    "        for j in s22:\n",
    "            if s11.count(j)==0:\n",
    "                yield j\n",
    "    else:\n",
    "        for j in s11:\n",
    "            if s22.count(j)==0:\n",
    "                yield j\n",
    "            \n",
    "try:\n",
    "    inputstring = input()\n",
    "    inputstring2=input()\n",
    "    for i in uncommon(inputstring,inputstring2):\n",
    "        print(i)\n",
    "except Exception as e:\n",
    "    print(e)"
   ]
  },
  {
   "cell_type": "code",
   "execution_count": null,
   "id": "a5d0adab",
   "metadata": {},
   "outputs": [],
   "source": [
    "Write a Python to find all duplicate characters in string?\n"
   ]
  },
  {
   "cell_type": "code",
   "execution_count": 51,
   "id": "85f69511",
   "metadata": {},
   "outputs": [
    {
     "name": "stdout",
     "output_type": "stream",
     "text": [
      "cndksoikealoifpm\n",
      "['i', 'o', 'k']\n"
     ]
    }
   ],
   "source": [
    "def dup_char(s):\n",
    "    \"\"\"This function returns list of duplicate characters\"\"\"\n",
    "    s11 = list(s)\n",
    "    s11=set(s11)\n",
    "    dup =[]\n",
    "    for i in s11:\n",
    "        if s.count(i)>1:\n",
    "            dup.append(i)\n",
    "    return dup\n",
    "            \n",
    "try:\n",
    "    inputstring = input()\n",
    "    print(dup_char(inputstring))\n",
    "except Exception as e:\n",
    "    print(e)"
   ]
  },
  {
   "cell_type": "code",
   "execution_count": null,
   "id": "66560240",
   "metadata": {},
   "outputs": [],
   "source": [
    "Write a Python Program to check if a string contains any special character?\n"
   ]
  },
  {
   "cell_type": "code",
   "execution_count": 50,
   "id": "06227517",
   "metadata": {},
   "outputs": [
    {
     "name": "stdout",
     "output_type": "stream",
     "text": [
      "mhgtokmy\n",
      "False\n"
     ]
    }
   ],
   "source": [
    "def special_char(s):\n",
    "    \"\"\"This function returns True if the string contains special characters\"\"\"\n",
    "    sc = '[@_!#$%^&*()<>?/\\|}{~:]'\n",
    "    for i in s:\n",
    "        if i in sc:\n",
    "            return True\n",
    "    return False\n",
    "            \n",
    "try:\n",
    "    inputstring = input()\n",
    "    print(special_char(inputstring))\n",
    "except Exception as e:\n",
    "    print(e)"
   ]
  }
 ],
 "metadata": {
  "kernelspec": {
   "display_name": "Python 3 (ipykernel)",
   "language": "python",
   "name": "python3"
  },
  "language_info": {
   "codemirror_mode": {
    "name": "ipython",
    "version": 3
   },
   "file_extension": ".py",
   "mimetype": "text/x-python",
   "name": "python",
   "nbconvert_exporter": "python",
   "pygments_lexer": "ipython3",
   "version": "3.8.12"
  }
 },
 "nbformat": 4,
 "nbformat_minor": 5
}
