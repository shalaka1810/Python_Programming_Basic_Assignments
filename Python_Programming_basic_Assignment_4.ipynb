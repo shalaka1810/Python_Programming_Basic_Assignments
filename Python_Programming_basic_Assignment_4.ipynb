{
 "cells": [
  {
   "cell_type": "code",
   "execution_count": null,
   "id": "91882cf7",
   "metadata": {},
   "outputs": [],
   "source": [
    "Write a Python Program to Find the Factorial of a Number?\n"
   ]
  },
  {
   "cell_type": "code",
   "execution_count": 26,
   "id": "faa9bf17",
   "metadata": {},
   "outputs": [
    {
     "name": "stdout",
     "output_type": "stream",
     "text": [
      "6\n",
      "720\n"
     ]
    }
   ],
   "source": [
    "def fact(n):\n",
    "    \"\"\"This function returns the factorial of a number\"\"\"\n",
    "    s = 1\n",
    "    if n==0:\n",
    "        return 1\n",
    "    elif n<0:\n",
    "        return \"Enter a positive integer\"\n",
    "    else:\n",
    "        for i in range(1,n+1):\n",
    "            s=s*i\n",
    "    return s \n",
    "try:\n",
    "    a = int(input())\n",
    "    print(fact(a))\n",
    "except:\n",
    "    print(\"Please give a valid input\")\n"
   ]
  },
  {
   "cell_type": "code",
   "execution_count": null,
   "id": "6312405e",
   "metadata": {},
   "outputs": [],
   "source": [
    "Write a Python Program to Display the multiplication Table?\n"
   ]
  },
  {
   "cell_type": "code",
   "execution_count": 27,
   "id": "fcaf1d91",
   "metadata": {},
   "outputs": [
    {
     "name": "stdout",
     "output_type": "stream",
     "text": [
      "5\n",
      "5\n",
      "10\n",
      "15\n",
      "20\n",
      "25\n",
      "30\n",
      "35\n",
      "40\n",
      "45\n",
      "50\n"
     ]
    }
   ],
   "source": [
    "def multable(n):\n",
    "    \"\"\"This function prints the multiplication table\"\"\"\n",
    "    for i in range(1,11):\n",
    "        yield n*i\n",
    "try:\n",
    "    a = int(input())\n",
    "    for j in multable(a):\n",
    "        print(j)\n",
    "except:\n",
    "    print(\"Please give a valid input\")\n"
   ]
  },
  {
   "cell_type": "code",
   "execution_count": null,
   "id": "2ba4c723",
   "metadata": {},
   "outputs": [],
   "source": [
    "Write a Python Program to Print the Fibonacci sequence?\n"
   ]
  },
  {
   "cell_type": "code",
   "execution_count": 14,
   "id": "f9c72c46",
   "metadata": {},
   "outputs": [
    {
     "name": "stdout",
     "output_type": "stream",
     "text": [
      "9\n",
      "1\n",
      "1\n",
      "2\n",
      "3\n",
      "5\n",
      "8\n",
      "13\n",
      "21\n",
      "34\n"
     ]
    }
   ],
   "source": [
    "def fibo(n):\n",
    "    \"\"\"This function prints the fibonacci sequence for the given number\"\"\"\n",
    "    n1=0\n",
    "    n2=1\n",
    "    for i in range(n):\n",
    "        yield n2 \n",
    "        n1,n2=n2,n1+n2\n",
    "                \n",
    "try:\n",
    "    a = int(input())\n",
    "    for j in fibo(a):\n",
    "        print(j)\n",
    "except:\n",
    "    print(\"Please give a valid input\")\n"
   ]
  },
  {
   "cell_type": "code",
   "execution_count": null,
   "id": "84eb9bb8",
   "metadata": {},
   "outputs": [],
   "source": [
    "Write a Python Program to Check Armstrong Number?\n"
   ]
  },
  {
   "cell_type": "code",
   "execution_count": 19,
   "id": "d6a347ed",
   "metadata": {},
   "outputs": [
    {
     "name": "stdout",
     "output_type": "stream",
     "text": [
      "153\n"
     ]
    },
    {
     "data": {
      "text/plain": [
       "'Armstrong'"
      ]
     },
     "execution_count": 19,
     "metadata": {},
     "output_type": "execute_result"
    }
   ],
   "source": [
    "def armstrong(n):\n",
    "    \"\"\"This function prints whether the given number is armstrong or not\"\"\"\n",
    "    sum = 0\n",
    "    for i in str(n):\n",
    "        sum+=int(i)**3\n",
    "    if sum==n:\n",
    "        return \"Armstrong\"\n",
    "    else:\n",
    "        return \"Not armstrong\"\n",
    "try:\n",
    "    a = int(input())\n",
    "    armstrong(a)\n",
    "except:\n",
    "    print(\"Please give a valid input\")\n"
   ]
  },
  {
   "cell_type": "code",
   "execution_count": null,
   "id": "300f52d3",
   "metadata": {},
   "outputs": [],
   "source": [
    "Write a Python Program to Find Armstrong Number in an Interval?\n"
   ]
  },
  {
   "cell_type": "code",
   "execution_count": 18,
   "id": "a3e5afa9",
   "metadata": {},
   "outputs": [
    {
     "name": "stdout",
     "output_type": "stream",
     "text": [
      "100\n",
      "500\n"
     ]
    },
    {
     "data": {
      "text/plain": [
       "[153, 370, 370, 371, 407]"
      ]
     },
     "execution_count": 18,
     "metadata": {},
     "output_type": "execute_result"
    }
   ],
   "source": [
    "def armstrong(n1,n2):\n",
    "    \"\"\"This function returns list of armstrong nos in a mentioned range\"\"\"\n",
    "    arm = []\n",
    "    for j in range(n1,n2+1):\n",
    "        sum = 0\n",
    "        for i in str(j):\n",
    "            sum+=int(i)**3\n",
    "            if sum==j:\n",
    "                arm.append(j)\n",
    "    return arm\n",
    "try:\n",
    "    a = int(input())\n",
    "    b = int(input())\n",
    "    armstrong(a,b)\n",
    "except:\n",
    "    print(\"Please give a valid input\")\n"
   ]
  },
  {
   "cell_type": "code",
   "execution_count": null,
   "id": "091a0160",
   "metadata": {},
   "outputs": [],
   "source": [
    "Write a Python Program to Find the Sum of Natural Numbers?\n"
   ]
  },
  {
   "cell_type": "code",
   "execution_count": 20,
   "id": "b262feda",
   "metadata": {},
   "outputs": [
    {
     "name": "stdout",
     "output_type": "stream",
     "text": [
      "9\n"
     ]
    },
    {
     "data": {
      "text/plain": [
       "45"
      ]
     },
     "execution_count": 20,
     "metadata": {},
     "output_type": "execute_result"
    }
   ],
   "source": [
    "def natno(n):\n",
    "    \"\"\"This function prints the sum of natural numbers\"\"\"\n",
    "    sum=0\n",
    "    for i in range(1,n+1):\n",
    "        sum+=i\n",
    "    return sum\n",
    "                \n",
    "try:\n",
    "    a = int(input())\n",
    "    print(natno(a))\n",
    "except:\n",
    "    print(\"Please give a valid input\")\n"
   ]
  }
 ],
 "metadata": {
  "kernelspec": {
   "display_name": "Python 3 (ipykernel)",
   "language": "python",
   "name": "python3"
  },
  "language_info": {
   "codemirror_mode": {
    "name": "ipython",
    "version": 3
   },
   "file_extension": ".py",
   "mimetype": "text/x-python",
   "name": "python",
   "nbconvert_exporter": "python",
   "pygments_lexer": "ipython3",
   "version": "3.8.12"
  }
 },
 "nbformat": 4,
 "nbformat_minor": 5
}
