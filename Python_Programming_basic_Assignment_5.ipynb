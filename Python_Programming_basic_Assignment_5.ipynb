{
 "cells": [
  {
   "cell_type": "code",
   "execution_count": null,
   "id": "c3fa12a5",
   "metadata": {},
   "outputs": [],
   "source": [
    "Write a Python Program to Find LCM?\n"
   ]
  },
  {
   "cell_type": "code",
   "execution_count": 7,
   "id": "6fd7546d",
   "metadata": {},
   "outputs": [
    {
     "name": "stdout",
     "output_type": "stream",
     "text": [
      "56\n",
      "72\n",
      "504\n"
     ]
    }
   ],
   "source": [
    "def lcm(n1,n2):\n",
    "    \"\"\"This function returns the LCM of the given numbers\"\"\"\n",
    "    n3 = n1\n",
    "    n4 = n2\n",
    "    while(n2 != 0):   \n",
    "        temp = n2\n",
    "        n2 = n1 % n2 \n",
    "        n1 = temp\n",
    "    gcd = n1  \n",
    "    lcm = (n3 * n4) // gcd   \n",
    "    return lcm\n",
    "\n",
    "try:\n",
    "    a = int(input())\n",
    "    b = int(input())\n",
    "    print(lcm(a,b))\n",
    "except:\n",
    "    print(\"Please give a valid input\")\n"
   ]
  },
  {
   "cell_type": "code",
   "execution_count": null,
   "id": "a3668dd8",
   "metadata": {},
   "outputs": [],
   "source": [
    "Write a Python Program to Find HCF?\n"
   ]
  },
  {
   "cell_type": "code",
   "execution_count": 11,
   "id": "0c38bbf6",
   "metadata": {},
   "outputs": [
    {
     "name": "stdout",
     "output_type": "stream",
     "text": [
      "54\n",
      "24\n",
      "6\n"
     ]
    }
   ],
   "source": [
    "def hcf(n1,n2):\n",
    "    \"\"\"This function returns the HCF of the given numbers\"\"\"\n",
    "    while(n2):\n",
    "        n1, n2 = n2, n1 % n2\n",
    "    return n1\n",
    "\n",
    "try:\n",
    "    a = int(input())\n",
    "    b = int(input())\n",
    "    print(hcf(a,b))\n",
    "except:\n",
    "    print(\"Please give a valid input\")\n"
   ]
  },
  {
   "cell_type": "code",
   "execution_count": null,
   "id": "93f1ad4e",
   "metadata": {},
   "outputs": [],
   "source": [
    "Write a Python Program to Convert Decimal to Binary, Octal and Hexadecimal?\n"
   ]
  },
  {
   "cell_type": "code",
   "execution_count": 27,
   "id": "c4cb1c57",
   "metadata": {},
   "outputs": [
    {
     "name": "stdout",
     "output_type": "stream",
     "text": [
      "452\n",
      "binary value  111000100\n",
      "Octal value  704\n",
      "Hexadecimal value  1c4\n"
     ]
    }
   ],
   "source": [
    "def decimal_bin(n):\n",
    "    \"\"\"This function returns the binary equivalent of given decimal number\"\"\"\n",
    "    return bin(n).replace(\"0b\",\"\")\n",
    "def decimal_octal(n):\n",
    "    \"\"\"This function returns the binary equivalent of given decimal number\"\"\"\n",
    "    return oct(n).replace(\"0o\",\"\")\n",
    "def decimal_hex(n):\n",
    "    \"\"\"This function returns the binary equivalent of given decimal number\"\"\"\n",
    "    return hex(n).replace(\"0x\",\"\")\n",
    "                \n",
    "try:\n",
    "    a = int(input())\n",
    "    print(\"binary value \",decimal_bin(a))\n",
    "    print(\"Octal value \",decimal_octal(a))\n",
    "    print(\"Hexadecimal value \",decimal_hex(a))\n",
    "except:\n",
    "    print(\"Opps! Seems like you entered Invalid value. Please enter a positive integer\")\n"
   ]
  },
  {
   "cell_type": "code",
   "execution_count": null,
   "id": "e738405b",
   "metadata": {},
   "outputs": [],
   "source": [
    "Write a Python Program To Find ASCII value of a character?\n"
   ]
  },
  {
   "cell_type": "code",
   "execution_count": 52,
   "id": "c074c29c",
   "metadata": {},
   "outputs": [
    {
     "name": "stdout",
     "output_type": "stream",
     "text": [
      "l\n",
      "108\n"
     ]
    }
   ],
   "source": [
    "def charascii(char):\n",
    "    \"\"\"This function returns the binary equivalent of given decimal number\"\"\"\n",
    "    try:\n",
    "        return ord(char)\n",
    "    except:\n",
    "        return \"Opps! Seems like you entered Invalid value. Please enter a character\"\n",
    "                \n",
    "\n",
    "a = input()\n",
    "print(charascii(a))\n"
   ]
  },
  {
   "cell_type": "code",
   "execution_count": null,
   "id": "64cc17de",
   "metadata": {},
   "outputs": [],
   "source": [
    "Write a Python Program to Make a Simple Calculator with 4 basic mathematical operations?\n"
   ]
  },
  {
   "cell_type": "code",
   "execution_count": 53,
   "id": "c9132843",
   "metadata": {},
   "outputs": [
    {
     "name": "stdout",
     "output_type": "stream",
     "text": [
      "Enter two numbers\n",
      "6\n",
      "2\n",
      "Enter the respective number for desired operation. 0-add, 1-subtract, 2-multiply, 3-divide\n",
      "3\n",
      "3.0\n"
     ]
    }
   ],
   "source": [
    "def add(a,b):\n",
    "    return a+b\n",
    "def subtract(a,b):\n",
    "    return a-b\n",
    "def multiply(a,b):\n",
    "    return a*b\n",
    "def divide(a,b):\n",
    "    return a/b\n",
    "\n",
    "try:\n",
    "    print(\"Enter two numbers\")\n",
    "    a = int(input())\n",
    "    b = int(input())\n",
    "    print(\"Enter the respective number for desired operation. 0-add, 1-subtract, 2-multiply, 3-divide\")\n",
    "    choice = input()\n",
    "    if choice=='0':\n",
    "        print(add(a,b))\n",
    "    elif choice=='1':\n",
    "        print(subtract(a,b))\n",
    "    elif choice=='2':\n",
    "        print(multiply(a,b))\n",
    "    elif choice=='3':\n",
    "        print(divide(a,b))\n",
    "    else:\n",
    "        print(\"Kindly enter from the given choices\")\n",
    "except:\n",
    "    print(\"Opps! Seems like you entered Invalid value. Please enter an integer\")\n",
    "    "
   ]
  }
 ],
 "metadata": {
  "kernelspec": {
   "display_name": "Python 3 (ipykernel)",
   "language": "python",
   "name": "python3"
  },
  "language_info": {
   "codemirror_mode": {
    "name": "ipython",
    "version": 3
   },
   "file_extension": ".py",
   "mimetype": "text/x-python",
   "name": "python",
   "nbconvert_exporter": "python",
   "pygments_lexer": "ipython3",
   "version": "3.8.12"
  }
 },
 "nbformat": 4,
 "nbformat_minor": 5
}
