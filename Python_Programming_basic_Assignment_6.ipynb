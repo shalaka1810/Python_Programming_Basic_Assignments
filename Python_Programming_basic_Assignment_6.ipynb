{
 "cells": [
  {
   "cell_type": "code",
   "execution_count": null,
   "id": "7abac586",
   "metadata": {},
   "outputs": [],
   "source": [
    "Write a Python Program to Display Fibonacci Sequence Using Recursion?\n"
   ]
  },
  {
   "cell_type": "code",
   "execution_count": 39,
   "id": "56620838",
   "metadata": {},
   "outputs": [
    {
     "name": "stdout",
     "output_type": "stream",
     "text": [
      "5\n",
      "0\n",
      "1\n",
      "1\n",
      "2\n",
      "3\n"
     ]
    }
   ],
   "source": [
    "def fibo(n):\n",
    "    \"\"\"This function prints the fibonacci sequence for the given number\"\"\"\n",
    "    if n <= 1:\n",
    "        return n\n",
    "    else:\n",
    "        return(fibo(n-1) + fibo(n-2))\n",
    "\n",
    "                \n",
    "try:\n",
    "    a = int(input())\n",
    "    for j in range(a):\n",
    "        print(fibo(j))\n",
    "except :\n",
    "    print(\"Please give a valid input\")\n"
   ]
  },
  {
   "cell_type": "code",
   "execution_count": null,
   "id": "7f3fe49c",
   "metadata": {},
   "outputs": [],
   "source": [
    "Write a Python Program to Find Factorial of Number Using Recursion?\n"
   ]
  },
  {
   "cell_type": "code",
   "execution_count": 45,
   "id": "01cb0c4a",
   "metadata": {},
   "outputs": [
    {
     "name": "stdout",
     "output_type": "stream",
     "text": [
      "5\n",
      "120\n"
     ]
    }
   ],
   "source": [
    "def factorial(n):\n",
    "    \"\"\"This function prints the fibonacci sequence for the given number\"\"\"\n",
    "    if n == 1:\n",
    "        return 1\n",
    "    else:\n",
    "        return factorial(n-1)*n\n",
    "\n",
    "                \n",
    "try:\n",
    "    a = int(input())\n",
    "    print(factorial(a))\n",
    "except :\n",
    "    print(\"Please give a valid input\")\n"
   ]
  },
  {
   "cell_type": "code",
   "execution_count": null,
   "id": "b01b2a60",
   "metadata": {},
   "outputs": [],
   "source": [
    "Write a Python Program to calculate your Body Mass Index?\n"
   ]
  },
  {
   "cell_type": "code",
   "execution_count": 29,
   "id": "f0c8a497",
   "metadata": {},
   "outputs": [
    {
     "name": "stdout",
     "output_type": "stream",
     "text": [
      "Enter weight in Kgs 456\n",
      "Enter weight in meters 2.5\n",
      "Obese- 72.96\n"
     ]
    }
   ],
   "source": [
    "def bmi(weight,height):\n",
    "    try:\n",
    "        weight = float(weight)\n",
    "        height = float(height)\n",
    "        bmi = weight/(height**2)\n",
    "        if bmi<18.5:\n",
    "            return \"Underweight- \"+str(bmi)[:8]\n",
    "        elif bmi >=18.5 and bmi<=24.9:\n",
    "            return \"Normal- \"+str(bmi)[:8]\n",
    "        elif bmi >=25.0 and bmi<=29.9:\n",
    "            return \"Overweight- \"+str(bmi)[:8]\n",
    "        elif bmi>=30:\n",
    "            return \"Obese- \"+str(bmi)[:8]\n",
    "    except :\n",
    "        print(\"Kindly check your input values\")\n",
    "\n",
    "weight = input(\"Enter weight in Kgs \")\n",
    "height = input(\"Enter weight in meters \")\n",
    "print(bmi(weight,height))"
   ]
  },
  {
   "cell_type": "code",
   "execution_count": null,
   "id": "e50b3d35",
   "metadata": {},
   "outputs": [],
   "source": [
    "Write a Python Program to calculate the natural logarithm of any number?\n"
   ]
  },
  {
   "cell_type": "code",
   "execution_count": 24,
   "id": "7d450d74",
   "metadata": {},
   "outputs": [
    {
     "name": "stdout",
     "output_type": "stream",
     "text": [
      "0.001\n",
      "-6.907755278982137\n"
     ]
    }
   ],
   "source": [
    "def natural_log(n):\n",
    "    \"\"\"This function prints the natural log of the given number\"\"\"\n",
    "    import math\n",
    "    if n=='0':\n",
    "        return \"undefined/infinity\"\n",
    "    elif n=='e':\n",
    "        return 1\n",
    "    else:\n",
    "        n = float(n)\n",
    "        return math.log(n)\n",
    "try:\n",
    "    a = input()\n",
    "    print(natural_log(a))\n",
    "except :\n",
    "    print(\"Please give a valid input\")\n"
   ]
  },
  {
   "cell_type": "code",
   "execution_count": 30,
   "id": "36c64e50",
   "metadata": {},
   "outputs": [],
   "source": [
    "Write a Python Program for cube sum of first n natural numbers?\n"
   ]
  },
  {
   "cell_type": "code",
   "execution_count": 34,
   "id": "4a79b08c",
   "metadata": {},
   "outputs": [
    {
     "name": "stdout",
     "output_type": "stream",
     "text": [
      "50\n",
      "1625625\n"
     ]
    }
   ],
   "source": [
    "def natnocube(n):\n",
    "    \"\"\"This function prints the sum of natural numbers\"\"\"\n",
    "    sum=0\n",
    "    for i in range(1,n+1):\n",
    "        sum+=i**3\n",
    "    return sum\n",
    "                \n",
    "try:\n",
    "    a = int(input())\n",
    "    print(natnocube(a))\n",
    "except:\n",
    "    print(\"Please give a valid input\")\n"
   ]
  }
 ],
 "metadata": {
  "kernelspec": {
   "display_name": "Python 3 (ipykernel)",
   "language": "python",
   "name": "python3"
  },
  "language_info": {
   "codemirror_mode": {
    "name": "ipython",
    "version": 3
   },
   "file_extension": ".py",
   "mimetype": "text/x-python",
   "name": "python",
   "nbconvert_exporter": "python",
   "pygments_lexer": "ipython3",
   "version": "3.8.12"
  }
 },
 "nbformat": 4,
 "nbformat_minor": 5
}
